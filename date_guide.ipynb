{
 "cells": [
  {
   "cell_type": "markdown",
   "metadata": {},
   "source": [
    "### A basic guide to working with Dates and Times in Python\n",
    "\n",
    "There are three relevant packages that can be used to do datetime operations in python.\n",
    "- `dateutil`\n",
    "- `datetime`\n",
    "- `time`\n",
    "\n",
    "The first two packages are included with the standard python distribution. \n",
    "The first package is a third-party package and you can install it using command `pip install dateutil`. For most use cases, last two packages are enough and we'll be focusing more on those. \n",
    "\n",
    "Let's get started!"
   ]
  },
  {
   "cell_type": "code",
   "execution_count": 1,
   "metadata": {},
   "outputs": [],
   "source": [
    "# import the required packages\n",
    "import time\n",
    "import datetime\n",
    "import dateutil"
   ]
  },
  {
   "cell_type": "markdown",
   "metadata": {},
   "source": [
    "I'm assuming you are familiar with a UNIX timestamp format. The easiest way to calculate time between any to events is using time packages. A simple demonstration follows:-"
   ]
  },
  {
   "cell_type": "code",
   "execution_count": 4,
   "metadata": {},
   "outputs": [
    {
     "data": {
      "text/plain": [
       "1533306161.8891551"
      ]
     },
     "execution_count": 4,
     "metadata": {},
     "output_type": "execute_result"
    }
   ],
   "source": [
    "# Get current timestamp\n",
    "time.time()"
   ]
  },
  {
   "cell_type": "code",
   "execution_count": 6,
   "metadata": {},
   "outputs": [
    {
     "name": "stdout",
     "output_type": "stream",
     "text": [
      "Time taken: 5.0038s\n"
     ]
    }
   ],
   "source": [
    "start_time = time.time()\n",
    "time.sleep(5)\n",
    "end_time = time.time()\n",
    "print('Time taken: {:.4f}s'.format(end_time - start_time))"
   ]
  },
  {
   "cell_type": "markdown",
   "metadata": {},
   "source": [
    "#### `datetime` package:\n",
    "\n",
    "But just the pure timestamp like `1533306161.8891551` is not very human friendly. The time represented by this timestamp is not obvious to us directly. We are more familiar with our traditional time represenatation formats. This is where the `datetime` package comes in.\n",
    "\n",
    "The `datetime` package represents the time in the form of a `datetime` object. This object look something like this -\n",
    "    \n",
    "    datetime.datetime(2018, 8, 3, 19, 56, 35, 444627)\n",
    "    \n",
    "A legend for the values given in the `datetime` object is as -\n",
    "\n",
    "    datetime(year, month, day, hour, minute, second, microsecond)\n",
    "    \n",
    "But this object is still not that user-friendly. \n",
    "What if you want to represent dates in the same form as you write on your notebook or include in your letters?\n",
    "\n",
    "Let's explore some functions of this `datetime` object."
   ]
  },
  {
   "cell_type": "code",
   "execution_count": 9,
   "metadata": {},
   "outputs": [
    {
     "data": {
      "text/plain": [
       "datetime.datetime(2018, 8, 3, 20, 1, 25, 386361)"
      ]
     },
     "execution_count": 9,
     "metadata": {},
     "output_type": "execute_result"
    }
   ],
   "source": [
    "# To get the datetime object for the current time instance, we do the following\n",
    "datetime.datetime.now()"
   ]
  },
  {
   "cell_type": "code",
   "execution_count": 12,
   "metadata": {},
   "outputs": [
    {
     "data": {
      "text/plain": [
       "datetime.datetime(2018, 8, 3, 10, 2, 24, 123455)"
      ]
     },
     "execution_count": 12,
     "metadata": {},
     "output_type": "execute_result"
    }
   ],
   "source": [
    "# But dates you want to represent are not always the current time instances.\n",
    "# In this case, you can directly pass the values to the datetime constructor according to the above format.\n",
    "\n",
    "datetime.datetime(2018, 8, 3, 10, 2, 24, 123455)"
   ]
  },
  {
   "cell_type": "code",
   "execution_count": 14,
   "metadata": {},
   "outputs": [
    {
     "data": {
      "text/plain": [
       "datetime.datetime(2018, 8, 3, 0, 0)"
      ]
     },
     "execution_count": 14,
     "metadata": {},
     "output_type": "execute_result"
    }
   ],
   "source": [
    "# You don't even have to supply all the values. The constructor will assume the values where missing.\n",
    "# The following object represents the datetime object for the time instance of 3rd Aug 2018\n",
    "datetime.datetime(2018, 8, 3)"
   ]
  },
  {
   "cell_type": "code",
   "execution_count": 17,
   "metadata": {},
   "outputs": [
    {
     "data": {
      "text/plain": [
       "datetime.datetime(2018, 8, 3, 0, 0)"
      ]
     },
     "execution_count": 17,
     "metadata": {},
     "output_type": "execute_result"
    }
   ],
   "source": [
    "# What if you want to convert a date or time represented as 03/08/2018 into a datetime object directly?\n",
    "\n",
    "datetime.datetime.strptime('03/08/2018', '%d/%m/%Y')"
   ]
  },
  {
   "cell_type": "markdown",
   "metadata": {},
   "source": [
    "We just specified the format of the input string and the constructor will parse the string for us automatically.\n",
    "\n",
    "Don't worry about the 2nd parameter value, we will get to it. Just know that -\n",
    "\n",
    "    %d/%m/%Y ---> day/month/year(full year) e.g 03/08/2018, 04/06/2015\n",
    "    %d-%m-%Y ---> day-month-year(full year) e.g. 03-08-2018, etc\n",
    "    \n",
    "You can do a similar thing for the time as well. What if you want to read time from a format like this-\n",
    "\n",
    "    03-08-2018 23:34:90"
   ]
  },
  {
   "cell_type": "code",
   "execution_count": 22,
   "metadata": {},
   "outputs": [
    {
     "data": {
      "text/plain": [
       "datetime.datetime(2018, 8, 3, 23, 34, 45)"
      ]
     },
     "execution_count": 22,
     "metadata": {},
     "output_type": "execute_result"
    }
   ],
   "source": [
    "l = datetime.datetime.strptime('03-08-2018 23:34:45', '%d-%m-%Y %H:%M:%S')\n",
    "l"
   ]
  },
  {
   "cell_type": "markdown",
   "metadata": {},
   "source": [
    "##### `datetime` operations:\n",
    "\n",
    "But why the hell are we converting our dates into `datetime` objects? What's the benefit?"
   ]
  },
  {
   "cell_type": "code",
   "execution_count": 27,
   "metadata": {},
   "outputs": [
    {
     "name": "stdout",
     "output_type": "stream",
     "text": [
      "03/08/2018\n",
      "03-08-2018\n",
      "23:34:45\n",
      "03 H 08 M 45 S\n"
     ]
    }
   ],
   "source": [
    "# The most obvious benefit is that you can print the date and time in any format you want.\n",
    "# NOTE: We are using the function strptime for reading the date and time.\n",
    "#       And we are using the function strftime for printing the date and time.\n",
    "\n",
    "print(l.strftime('%d/%m/%Y'))\n",
    "print(l.strftime('%d-%m-%Y'))\n",
    "print(l.strftime('%H:%M:%S'))\n",
    "print(l.strftime('%d H %m M %S S'))"
   ]
  },
  {
   "cell_type": "code",
   "execution_count": 35,
   "metadata": {},
   "outputs": [
    {
     "name": "stdout",
     "output_type": "stream",
     "text": [
      "Input format    : 2018-04-30 9hr 45min\n",
      "Datetime format : datetime.datetime(2018, 4, 30, 9, 45)\n",
      "New format      : 30-04-2018 09:45:00 \n"
     ]
    }
   ],
   "source": [
    "# You can use this to convert the date from one format to another\n",
    "\n",
    "input_fmt = '2018-04-30 9hr 45min'\n",
    "print('%-15s : %-20s' % ('Input format', input_fmt))\n",
    "d = datetime.datetime.strptime(input_fmt, '%Y-%m-%d %Hhr %Mmin')\n",
    "print('%-15s : %-20s' % ('Datetime format', d.__repr__()))\n",
    "custom_fmt = d.strftime('%d-%m-%Y %H:%M:%S')\n",
    "print('%-15s : %-20s' % ('New format', custom_fmt))"
   ]
  },
  {
   "cell_type": "markdown",
   "metadata": {},
   "source": [
    "Not just for converting the values and formats of date and time. `datetime` objects also support arithmetic opertations.\n",
    "\n",
    "#### (optional)  you can use the `dateutil` package to make creating `datetime` objects even easier."
   ]
  },
  {
   "cell_type": "code",
   "execution_count": 41,
   "metadata": {},
   "outputs": [
    {
     "name": "stdout",
     "output_type": "stream",
     "text": [
      "2017-08-06 00:00:00 2017-07-06 00:00:00\n"
     ]
    }
   ],
   "source": [
    "d1 = dateutil.parser.parse('08/06/2017')\n",
    "d2 = dateutil.parser.parse('07/06/2017')\n",
    "print(d1, d2)"
   ]
  },
  {
   "cell_type": "code",
   "execution_count": null,
   "metadata": {},
   "outputs": [],
   "source": [
    "# And lastly, you can create a datetime object directly from the timestamp as well\n",
    "timestmap = time.time()\n",
    "print('%-15s : %-20s' % ('Timestamp', time))\n"
   ]
  }
 ],
 "metadata": {
  "kernelspec": {
   "display_name": "Python 3",
   "language": "python",
   "name": "python3"
  },
  "language_info": {
   "codemirror_mode": {
    "name": "ipython",
    "version": 3
   },
   "file_extension": ".py",
   "mimetype": "text/x-python",
   "name": "python",
   "nbconvert_exporter": "python",
   "pygments_lexer": "ipython3",
   "version": "3.6.5"
  }
 },
 "nbformat": 4,
 "nbformat_minor": 2
}
