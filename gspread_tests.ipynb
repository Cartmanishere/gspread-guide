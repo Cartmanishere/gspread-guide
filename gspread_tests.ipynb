{
 "cells": [
  {
   "cell_type": "markdown",
   "metadata": {},
   "source": [
    "### Instructions::\n",
    "\n",
    "#### Step 1: `pip install gspread oauth2client`\n",
    "\n",
    "#### Step 2: Generate service account file from [google developers console](http://gspread.readthedocs.io/en/latest/oauth2.html).  \n",
    "\n",
    "#### Step 3: Enable sheets api and drive api in Google API console.\n",
    "\n",
    "#### Step 4: Create a spreadsheet and share it with the `client_email` in the service account credentials file"
   ]
  },
  {
   "cell_type": "code",
   "execution_count": 52,
   "metadata": {},
   "outputs": [],
   "source": [
    "import gspread\n",
    "from pprint import pprint\n",
    "from oauth2client.service_account import ServiceAccountCredentials\n",
    "import pandas as pd\n",
    "import re\n",
    "\n",
    "scope = ['https://spreadsheets.google.com/feeds',\n",
    "         'https://www.googleapis.com/auth/drive']\n",
    "\n",
    "credentials = ServiceAccountCredentials.from_json_keyfile_name('creds.json', scope)         \n",
    "\n",
    "gc = gspread.authorize(credentials)"
   ]
  },
  {
   "cell_type": "markdown",
   "metadata": {},
   "source": [
    "#### Authorization is done. Now you can access all sheets accessible to the `client_email` in the sevice account file.\n",
    "\n",
    "#### You can open any spreadsheet using the it's name or directly by it's url\n",
    "   \n",
    "    gc.open('myspreadsheetname')\n",
    "    \n",
    "    or\n",
    "    \n",
    "    gc.open_by_url('https://docs.google.com/spreadsheets/d/1d0wo8_-9q7AzUJttgIJfipUHNwpFPC1Wn5QitY7jUhw/edit#gid=0')"
   ]
  },
  {
   "cell_type": "code",
   "execution_count": 9,
   "metadata": {},
   "outputs": [],
   "source": [
    "sheet = gc.open('gspread_test') # I have made a test spreadsheet for this guide with the name 'gspread_test'"
   ]
  },
  {
   "cell_type": "markdown",
   "metadata": {},
   "source": [
    "A typical sheet has the following functinons that would be useful for you:\n",
    "`'add_worksheet',\n",
    "   'batch_update',\n",
    "   'client',\n",
    "   'del_worksheet',\n",
    "   'fetch_sheet_metadata',\n",
    "   'get_worksheet',\n",
    "   'id',\n",
    "   'list_permissions',\n",
    "   'remove_permissions',\n",
    "   'share',\n",
    "   'sheet1',\n",
    "   'title',\n",
    "   'updated',\n",
    "   'values_append',\n",
    "   'values_clear',\n",
    "   'values_get',\n",
    "   'values_update',\n",
    "   'worksheet',\n",
    "   'worksheets'`\n",
    "\n",
    "You can get more info about any of this functions by running `help(sheet.func_name)`"
   ]
  },
  {
   "cell_type": "code",
   "execution_count": 13,
   "metadata": {},
   "outputs": [
    {
     "data": {
      "text/plain": [
       "[<Worksheet 'Sheet1' id:0>]"
      ]
     },
     "execution_count": 13,
     "metadata": {},
     "output_type": "execute_result"
    }
   ],
   "source": [
    "sheet.worksheets() # This returns the active workshseets. I currently have a single sheet by default."
   ]
  },
  {
   "cell_type": "code",
   "execution_count": 17,
   "metadata": {},
   "outputs": [],
   "source": [
    "wks = sheet.sheet1 # Another way to access the worksheet"
   ]
  },
  {
   "cell_type": "markdown",
   "metadata": {},
   "source": [
    "A worksheet has following functions for you to use:\n",
    "`'acell',\n",
    " 'add_cols',\n",
    " 'add_rows',\n",
    " 'append_row',\n",
    " 'cell',\n",
    " 'clear',\n",
    " 'client',\n",
    " 'col_count',\n",
    " 'col_values',\n",
    " 'delete_row',\n",
    " 'export',\n",
    " 'find',\n",
    " 'findall',\n",
    " 'get_all_records',\n",
    " 'get_all_values',\n",
    " 'id',\n",
    " 'insert_row',\n",
    " 'range',\n",
    " 'resize',\n",
    " 'row_count',\n",
    " 'row_values',\n",
    " 'spreadsheet',\n",
    " 'title',\n",
    " 'update_acell',\n",
    " 'update_cell',\n",
    " 'update_cells',\n",
    " 'update_title',\n",
    " 'updated'\n",
    "` \n",
    "\n",
    "You can get more info about any of this functions by running `help(wks.func_name)`"
   ]
  },
  {
   "cell_type": "code",
   "execution_count": 18,
   "metadata": {},
   "outputs": [
    {
     "name": "stdout",
     "output_type": "stream",
     "text": [
      "Help on method insert_row in module gspread.models:\n",
      "\n",
      "insert_row(values, index=1, value_input_option='RAW') method of gspread.models.Worksheet instance\n",
      "    Adds a row to the worksheet at the specified index\n",
      "    and populates it with values.\n",
      "    \n",
      "    Widens the worksheet if there are more values than columns.\n",
      "    \n",
      "    :param values: List of values for the new row.\n",
      "    :param value_input_option: Determines how input data should be\n",
      "                               interpreted. See `ValueInputOption`_\n",
      "                               in the Sheets API.\n",
      "    \n",
      "    .. _ValueInputOption: https://developers.google.com/sheets/api/reference/rest/v4/ValueInputOption\n",
      "\n"
     ]
    }
   ],
   "source": [
    "help(wks.insert_row)"
   ]
  },
  {
   "cell_type": "code",
   "execution_count": 42,
   "metadata": {},
   "outputs": [
    {
     "data": {
      "text/plain": [
       "{'spreadsheetId': '1d0wo8_-9q7AzUJttgIJfipUHNwpFPC1Wn5QitY7jUhw',\n",
       " 'updatedRange': 'Sheet1!A1:E1',\n",
       " 'updatedRows': 1,\n",
       " 'updatedColumns': 5,\n",
       " 'updatedCells': 5}"
      ]
     },
     "execution_count": 42,
     "metadata": {},
     "output_type": "execute_result"
    }
   ],
   "source": [
    "wks.insert_row(['1', 'Akshay Soni', '2015BEC123', 'B.Tech', 'B Div'], index=1) # Entered 1 row"
   ]
  },
  {
   "cell_type": "code",
   "execution_count": 43,
   "metadata": {},
   "outputs": [
    {
     "data": {
      "text/plain": [
       "[['1', 'Akshay Soni', '2015BEC123', 'B.Tech', 'B Div']]"
      ]
     },
     "execution_count": 43,
     "metadata": {},
     "output_type": "execute_result"
    }
   ],
   "source": [
    "wks.get_all_values() # This will return all the rows in the spreedsheet"
   ]
  },
  {
   "cell_type": "code",
   "execution_count": 44,
   "metadata": {},
   "outputs": [
    {
     "data": {
      "text/plain": [
       "{'spreadsheetId': '1d0wo8_-9q7AzUJttgIJfipUHNwpFPC1Wn5QitY7jUhw',\n",
       " 'updatedRange': 'Sheet1!A5:E5',\n",
       " 'updatedRows': 1,\n",
       " 'updatedColumns': 5,\n",
       " 'updatedCells': 5}"
      ]
     },
     "execution_count": 44,
     "metadata": {},
     "output_type": "execute_result"
    }
   ],
   "source": [
    "# Let's add some more values\n",
    "wks.insert_row(['2', 'Pranav Gajjewar', '2015BCS025', 'B.Tech', 'A Div'], index=2)\n",
    "wks.insert_row(['3', 'Nikhil Chaudhari', '2015BCS033', 'B.Tech', 'A Div'], index=3)\n",
    "wks.insert_row(['4', 'Pratik Somawanshi', '2015BCS123', 'B.Tech', 'A Div'], index=4)\n",
    "wks.insert_row(['5', 'Ankur Narkhede', '2015BCS037', 'B.Tech', 'A Div'], index=5)"
   ]
  },
  {
   "cell_type": "markdown",
   "metadata": {},
   "source": [
    "You can use the `pandas.DataFrame` to properly formalize these rows as table"
   ]
  },
  {
   "cell_type": "code",
   "execution_count": 45,
   "metadata": {},
   "outputs": [
    {
     "data": {
      "text/html": [
       "<div>\n",
       "<style scoped>\n",
       "    .dataframe tbody tr th:only-of-type {\n",
       "        vertical-align: middle;\n",
       "    }\n",
       "\n",
       "    .dataframe tbody tr th {\n",
       "        vertical-align: top;\n",
       "    }\n",
       "\n",
       "    .dataframe thead th {\n",
       "        text-align: right;\n",
       "    }\n",
       "</style>\n",
       "<table border=\"1\" class=\"dataframe\">\n",
       "  <thead>\n",
       "    <tr style=\"text-align: right;\">\n",
       "      <th></th>\n",
       "      <th>Name</th>\n",
       "      <th>Reg.no</th>\n",
       "      <th>Class</th>\n",
       "      <th>Div</th>\n",
       "    </tr>\n",
       "    <tr>\n",
       "      <th>Id</th>\n",
       "      <th></th>\n",
       "      <th></th>\n",
       "      <th></th>\n",
       "      <th></th>\n",
       "    </tr>\n",
       "  </thead>\n",
       "  <tbody>\n",
       "    <tr>\n",
       "      <th>1</th>\n",
       "      <td>Akshay Soni</td>\n",
       "      <td>2015BEC123</td>\n",
       "      <td>B.Tech</td>\n",
       "      <td>B Div</td>\n",
       "    </tr>\n",
       "    <tr>\n",
       "      <th>2</th>\n",
       "      <td>Pranav Gajjewar</td>\n",
       "      <td>2015BCS025</td>\n",
       "      <td>B.Tech</td>\n",
       "      <td>A Div</td>\n",
       "    </tr>\n",
       "    <tr>\n",
       "      <th>3</th>\n",
       "      <td>Nikhil Chaudhari</td>\n",
       "      <td>2015BCS033</td>\n",
       "      <td>B.Tech</td>\n",
       "      <td>A Div</td>\n",
       "    </tr>\n",
       "    <tr>\n",
       "      <th>4</th>\n",
       "      <td>Pratik Somawanshi</td>\n",
       "      <td>2015BCS123</td>\n",
       "      <td>B.Tech</td>\n",
       "      <td>A Div</td>\n",
       "    </tr>\n",
       "    <tr>\n",
       "      <th>5</th>\n",
       "      <td>Ankur Narkhede</td>\n",
       "      <td>2015BCS037</td>\n",
       "      <td>B.Tech</td>\n",
       "      <td>A Div</td>\n",
       "    </tr>\n",
       "  </tbody>\n",
       "</table>\n",
       "</div>"
      ],
      "text/plain": [
       "                 Name      Reg.no   Class    Div\n",
       "Id                                              \n",
       "1         Akshay Soni  2015BEC123  B.Tech  B Div\n",
       "2     Pranav Gajjewar  2015BCS025  B.Tech  A Div\n",
       "3    Nikhil Chaudhari  2015BCS033  B.Tech  A Div\n",
       "4   Pratik Somawanshi  2015BCS123  B.Tech  A Div\n",
       "5      Ankur Narkhede  2015BCS037  B.Tech  A Div"
      ]
     },
     "execution_count": 45,
     "metadata": {},
     "output_type": "execute_result"
    }
   ],
   "source": [
    "table = pd.DataFrame(data=wks.get_all_values(), columns=['Id', 'Name', 'Reg.no', 'Class', 'Div'])\n",
    "table.set_index('Id')"
   ]
  },
  {
   "cell_type": "markdown",
   "metadata": {},
   "source": [
    "#### How to find a specific cell and its corresponding row?\n",
    "\n",
    "Use the functions `wks.find` and `wks.row_values` as follows."
   ]
  },
  {
   "cell_type": "code",
   "execution_count": 64,
   "metadata": {},
   "outputs": [
    {
     "data": {
      "text/plain": [
       "['2', 'Pranav Gajjewar', '2015BCS025', 'B.Tech', 'A Div']"
      ]
     },
     "execution_count": 64,
     "metadata": {},
     "output_type": "execute_result"
    }
   ],
   "source": [
    "row_index = wks.find('2015BCS025')\n",
    "wks.row_values(row_index.row)"
   ]
  },
  {
   "cell_type": "code",
   "execution_count": 65,
   "metadata": {},
   "outputs": [
    {
     "name": "stdout",
     "output_type": "stream",
     "text": [
      "['2', 'Pranav Gajjewar', '2015BCS025', 'B.Tech', 'A Div']\n",
      "['3', 'Nikhil Chaudhari', '2015BCS033', 'B.Tech', 'A Div']\n",
      "['4', 'Pratik Somawanshi', '2015BCS123', 'B.Tech', 'A Div']\n",
      "['5', 'Ankur Narkhede', '2015BCS037', 'B.Tech', 'A Div']\n"
     ]
    }
   ],
   "source": [
    "row_indices = wks.findall('A Div')\n",
    "for i in row_indices:\n",
    "    pprint(wks.row_values(i.row))"
   ]
  },
  {
   "cell_type": "raw",
   "metadata": {},
   "source": [
    "Suppose you want to change the value of the name cell for 4th row"
   ]
  },
  {
   "cell_type": "code",
   "execution_count": 74,
   "metadata": {},
   "outputs": [
    {
     "data": {
      "text/plain": [
       "{'spreadsheetId': '1d0wo8_-9q7AzUJttgIJfipUHNwpFPC1Wn5QitY7jUhw',\n",
       " 'updatedRange': 'Sheet1!B4',\n",
       " 'updatedRows': 1,\n",
       " 'updatedColumns': 1,\n",
       " 'updatedCells': 1}"
      ]
     },
     "execution_count": 74,
     "metadata": {},
     "output_type": "execute_result"
    }
   ],
   "source": [
    "row, col = 4, 2\n",
    "wks.update_cell(row, col, 'Pratik Somwanshi')"
   ]
  },
  {
   "cell_type": "code",
   "execution_count": 75,
   "metadata": {},
   "outputs": [
    {
     "name": "stdout",
     "output_type": "stream",
     "text": [
      "['2', 'Pranav Gajjewar', '2015BCS025', 'B.Tech', 'A Div']\n",
      "['3', 'Nikhil Chaudhari', '2015BCS033', 'B.Tech', 'A Div']\n",
      "['4', 'Pratik Somwanshi', '2015BCS123', 'B.Tech', 'A Div']\n",
      "['5', 'Ankur Narkhede', '2015BCS037', 'B.Tech', 'A Div']\n"
     ]
    }
   ],
   "source": [
    "row_indices = wks.findall('A Div')\n",
    "for i in row_indices:\n",
    "    pprint(wks.row_values(i.row))"
   ]
  }
 ],
 "metadata": {
  "kernelspec": {
   "display_name": "Python 3",
   "language": "python",
   "name": "python3"
  },
  "language_info": {
   "codemirror_mode": {
    "name": "ipython",
    "version": 3
   },
   "file_extension": ".py",
   "mimetype": "text/x-python",
   "name": "python",
   "nbconvert_exporter": "python",
   "pygments_lexer": "ipython3",
   "version": "3.6.5"
  }
 },
 "nbformat": 4,
 "nbformat_minor": 2
}
